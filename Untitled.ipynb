{
 "cells": [
  {
   "cell_type": "code",
   "execution_count": null,
   "metadata": {
    "collapsed": true
   },
   "outputs": [],
   "source": [
    "dt_prediction_date                 datetime64[ns]\n",
    "dt_target_date                     datetime64[ns]\n",
    "s_model_type                               object\n",
    "cat_case_type                              object\n",
    "cat_i_flightno                              int64\n",
    "dt_flight_date                     datetime64[ns]\n",
    "num_flight_year                             int64\n",
    "num_flight_month                            int64\n",
    "num_flight_weekofyear                       int64\n",
    "num_flight_dayofweek                        int64\n",
    "cat_sdt_hour                                int64\n",
    "cat_i_airport                               int64\n",
    "cat_i_city                                  int64\n",
    "cat_destination_group_id                    int64\n",
    "cat_longhaul_ind                            int64\n",
    "num_airport_other_ops                       int64\n",
    "num_airport_other_flights                   int64\n",
    "num_city_other_ops                          int64\n",
    "num_city_other_flights                      int64\n",
    "cat_s_plane_capacity                       object\n",
    "cat_flight_class_type_id                    int64\n",
    "ord_leisure                                 int64\n",
    "ord_irish_residents                         int64\n",
    "ord_trip_duration                           int64\n",
    "ord_female                                  int64\n",
    "ord_party_size                              int64\n",
    "ord_bag_checkin                             int64\n",
    "ord_arrive_by_car                           int64\n",
    "num_pax_000_014_mins_before_sdt             int64\n",
    "num_pax_015_029_mins_before_sdt             int64\n",
    "num_pax_030_044_mins_before_sdt             int64\n",
    "num_pax_045_059_mins_before_sdt             int64\n",
    "num_pax_060_074_mins_before_sdt             int64\n",
    "num_pax_075_089_mins_before_sdt             int64\n",
    "num_pax_090_104_mins_before_sdt             int64\n",
    "num_pax_105_119_mins_before_sdt             int64\n",
    "num_pax_120_134_mins_before_sdt             int64\n",
    "num_pax_135_149_mins_before_sdt             int64\n",
    "num_pax_150_164_mins_before_sdt             int64\n",
    "num_pax_165_179_mins_before_sdt             int64\n",
    "num_pax_180_194_mins_before_sdt             int64\n",
    "num_pax_195_209_mins_before_sdt             int64\n",
    "num_pax_210_224_mins_before_sdt             int64\n",
    "num_pax_225_239_mins_before_sdt             int64\n",
    "num_pax_240plus_mins_before_sdt             int64"
   ]
  }
 ],
 "metadata": {
  "kernelspec": {
   "display_name": "Python [default]",
   "language": "python",
   "name": "python3"
  },
  "language_info": {
   "codemirror_mode": {
    "name": "ipython",
    "version": 3
   },
   "file_extension": ".py",
   "mimetype": "text/x-python",
   "name": "python",
   "nbconvert_exporter": "python",
   "pygments_lexer": "ipython3",
   "version": "3.5.1"
  }
 },
 "nbformat": 4,
 "nbformat_minor": 1
}
